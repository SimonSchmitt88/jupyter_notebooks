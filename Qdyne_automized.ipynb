{
 "cells": [
  {
   "cell_type": "code",
   "execution_count": 1,
   "metadata": {
    "collapsed": false,
    "deletable": true,
    "editable": true
   },
   "outputs": [],
   "source": [
    "import time\n",
    "sequence=[1,2,3,4,5]\n",
    "fastcounter = mydummyfastcounter\n",
    "\n",
    "meas_dur=3e1 #in s\n",
    "optimize_during_meas=False\n",
    "optimize_period=500 # in s\n",
    "\n"
   ]
  },
  {
   "cell_type": "code",
   "execution_count": 2,
   "metadata": {
    "collapsed": false,
    "deletable": true,
    "editable": true
   },
   "outputs": [],
   "source": [
    "# optimization\n",
    "def optimize():\n",
    "    # turn off pulse generator\n",
    "    pulsedmeasurementlogic.pulse_generator_off()\n",
    "    # turn off FCT\n",
    "    fastcounter.pause_measure()\n",
    "    # load laser_on_sequence\n",
    "    pulsedmeasurementlogic.load_asset('Laser_On')\n",
    "    pulsedmeasurementlogic.pulse_generator_on()\n",
    "    # do optimization\n",
    "    optimizerlogic.start_refocus()\n",
    "    # reload Qdyne\n",
    "    pulsedmeasurementlogic.pulse_generator_off()\n",
    "    pulsedmeasurementlogic.load_asset('XY8_Qdyne')\n",
    "    pulsedmeasurementlogic.pulse_generator_on()\n",
    "    # turn off FCT\n",
    "    fastcounter.continue_measure()\n",
    "    \n",
    "    \n",
    "    \n",
    "    "
   ]
  },
  {
   "cell_type": "code",
   "execution_count": 3,
   "metadata": {
    "collapsed": false,
    "deletable": true,
    "editable": true
   },
   "outputs": [],
   "source": [
    "for jj in range(len(sequence)):    \n",
    "    filename='D:\\Data//2017//02//15//Qdyne-' + str(int(sequence[jj])) + '_y.mpa'\n",
    "    time.sleep(1)    \n",
    "    #fastcounter._change_filename(filename)\n",
    "    # start the measurment\n",
    "    pulsedmeasurementlogic.start_pulsed_measurement()\n",
    "    # set the time flags\n",
    "    start_measurment_time=time.time()\n",
    "    optimize_time=start_measurment_time\n",
    "    current_time=time.time()\n",
    "    # measure for _meas_dur_ seconds\n",
    "    while current_time - start_measurment_time < meas_dur: \n",
    "        if optimize_during_meas:\n",
    "        # do a optimization every _optimize_period_ seconds        \n",
    "            while current_time - optimize_time < optimize_period:\n",
    "                time.sleep(2)\n",
    "                current_time=time.time()                               \n",
    "            optimize()\n",
    "            optimize=time.time()\n",
    "            current_time=time.time() \n",
    "        else:           \n",
    "            time.sleep(1)\n",
    "            current_time=time.time()            \n",
    "        \n",
    "    # always optimize between two measurments\n",
    "    optimize()\n",
    "pulsedmeasurementlogic.stop_pulsed_measurement()"
   ]
  },
  {
   "cell_type": "code",
   "execution_count": null,
   "metadata": {
    "collapsed": true,
    "deletable": true,
    "editable": true
   },
   "outputs": [],
   "source": [
    "stop_request=False\n",
    "    "
   ]
  },
  {
   "cell_type": "code",
   "execution_count": null,
   "metadata": {
    "collapsed": false,
    "deletable": true,
    "editable": true
   },
   "outputs": [],
   "source": [
    "print(stop_request)\n"
   ]
  },
  {
   "cell_type": "code",
   "execution_count": null,
   "metadata": {
    "collapsed": false,
    "deletable": true,
    "editable": true
   },
   "outputs": [],
   "source": [
    "print(len(sequence))"
   ]
  },
  {
   "cell_type": "code",
   "execution_count": null,
   "metadata": {
    "collapsed": true,
    "deletable": true,
    "editable": true
   },
   "outputs": [],
   "source": []
  }
 ],
 "metadata": {
  "anaconda-cloud": {},
  "kernelspec": {
   "display_name": "Qudi",
   "language": "python",
   "name": "qudi"
  },
  "language_info": {
   "codemirror_mode": {
    "name": "ipython",
    "version": "3.4.5"
   },
   "file_extension": ".py",
   "mimetype": "text/x-python",
   "name": "python",
   "nbconvert_exporter": "python",
   "pygments_lexer": "ipython3",
   "version": "3.4.5"
  }
 },
 "nbformat": 4,
 "nbformat_minor": 1
}
